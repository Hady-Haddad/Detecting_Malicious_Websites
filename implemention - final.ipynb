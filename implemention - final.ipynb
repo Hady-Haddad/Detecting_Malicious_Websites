{
 "cells": [
  {
   "cell_type": "code",
   "execution_count": 1,
   "metadata": {},
   "outputs": [],
   "source": [
    "import numpy as nm  \n",
    "import matplotlib.pyplot as mtp  \n",
    "import pandas as pd\n",
    "from sklearn.preprocessing import LabelEncoder\n",
    "from sklearn.model_selection import train_test_split \n",
    "from sklearn.preprocessing import StandardScaler\n",
    "from sklearn.metrics import confusion_matrix ,accuracy_score \n",
    "\n",
    "#importing datasets  \n",
    "data= pd.read_csv('dataset.csv')  \n",
    "  \n"
   ]
  },
  {
   "cell_type": "code",
   "execution_count": 2,
   "metadata": {},
   "outputs": [
    {
     "data": {
      "text/html": [
       "<div>\n",
       "<style scoped>\n",
       "    .dataframe tbody tr th:only-of-type {\n",
       "        vertical-align: middle;\n",
       "    }\n",
       "\n",
       "    .dataframe tbody tr th {\n",
       "        vertical-align: top;\n",
       "    }\n",
       "\n",
       "    .dataframe thead th {\n",
       "        text-align: right;\n",
       "    }\n",
       "</style>\n",
       "<table border=\"1\" class=\"dataframe\">\n",
       "  <thead>\n",
       "    <tr style=\"text-align: right;\">\n",
       "      <th></th>\n",
       "      <th>URL</th>\n",
       "      <th>URL_LENGTH</th>\n",
       "      <th>NUMBER_SPECIAL_CHARACTERS</th>\n",
       "      <th>CHARSET</th>\n",
       "      <th>SERVER</th>\n",
       "      <th>WHOIS_COUNTRY</th>\n",
       "      <th>WHOIS_REGDATE</th>\n",
       "      <th>WHOIS_UPDATED_DATE</th>\n",
       "      <th>TCP_CONVERSATION_EXCHANGE</th>\n",
       "      <th>DIST_REMOTE_TCP_PORT</th>\n",
       "      <th>REMOTE_IPS</th>\n",
       "      <th>APP_BYTES</th>\n",
       "      <th>SOURCE_APP_PACKETS</th>\n",
       "      <th>REMOTE_APP_PACKETS</th>\n",
       "      <th>SOURCE_APP_BYTES</th>\n",
       "      <th>REMOTE_APP_BYTES</th>\n",
       "      <th>APP_PACKETS</th>\n",
       "      <th>DNS_QUERY_TIMES</th>\n",
       "      <th>Type</th>\n",
       "    </tr>\n",
       "  </thead>\n",
       "  <tbody>\n",
       "    <tr>\n",
       "      <th>0</th>\n",
       "      <td>M0_109</td>\n",
       "      <td>16</td>\n",
       "      <td>7</td>\n",
       "      <td>iso</td>\n",
       "      <td>nginx</td>\n",
       "      <td>None</td>\n",
       "      <td>10-10-15 18:21</td>\n",
       "      <td>None</td>\n",
       "      <td>7</td>\n",
       "      <td>0</td>\n",
       "      <td>2</td>\n",
       "      <td>700</td>\n",
       "      <td>9</td>\n",
       "      <td>10</td>\n",
       "      <td>1153</td>\n",
       "      <td>832</td>\n",
       "      <td>9</td>\n",
       "      <td>2</td>\n",
       "      <td>1</td>\n",
       "    </tr>\n",
       "    <tr>\n",
       "      <th>1</th>\n",
       "      <td>B0_2314</td>\n",
       "      <td>16</td>\n",
       "      <td>6</td>\n",
       "      <td>utf</td>\n",
       "      <td>apache</td>\n",
       "      <td>None</td>\n",
       "      <td>None</td>\n",
       "      <td>None</td>\n",
       "      <td>17</td>\n",
       "      <td>7</td>\n",
       "      <td>4</td>\n",
       "      <td>1230</td>\n",
       "      <td>17</td>\n",
       "      <td>19</td>\n",
       "      <td>1265</td>\n",
       "      <td>1230</td>\n",
       "      <td>17</td>\n",
       "      <td>0</td>\n",
       "      <td>0</td>\n",
       "    </tr>\n",
       "    <tr>\n",
       "      <th>2</th>\n",
       "      <td>B0_911</td>\n",
       "      <td>16</td>\n",
       "      <td>6</td>\n",
       "      <td>ascii</td>\n",
       "      <td>microsoft</td>\n",
       "      <td>None</td>\n",
       "      <td>None</td>\n",
       "      <td>None</td>\n",
       "      <td>0</td>\n",
       "      <td>0</td>\n",
       "      <td>0</td>\n",
       "      <td>0</td>\n",
       "      <td>0</td>\n",
       "      <td>0</td>\n",
       "      <td>0</td>\n",
       "      <td>0</td>\n",
       "      <td>0</td>\n",
       "      <td>0</td>\n",
       "      <td>0</td>\n",
       "    </tr>\n",
       "    <tr>\n",
       "      <th>3</th>\n",
       "      <td>B0_113</td>\n",
       "      <td>17</td>\n",
       "      <td>6</td>\n",
       "      <td>iso</td>\n",
       "      <td>nginx</td>\n",
       "      <td>US</td>\n",
       "      <td>07-10-97 4:00</td>\n",
       "      <td>12-09-13 0:45</td>\n",
       "      <td>31</td>\n",
       "      <td>22</td>\n",
       "      <td>3</td>\n",
       "      <td>3812</td>\n",
       "      <td>39</td>\n",
       "      <td>37</td>\n",
       "      <td>18784</td>\n",
       "      <td>4380</td>\n",
       "      <td>39</td>\n",
       "      <td>8</td>\n",
       "      <td>0</td>\n",
       "    </tr>\n",
       "    <tr>\n",
       "      <th>4</th>\n",
       "      <td>B0_403</td>\n",
       "      <td>17</td>\n",
       "      <td>6</td>\n",
       "      <td>utf</td>\n",
       "      <td>None</td>\n",
       "      <td>US</td>\n",
       "      <td>12-05-96 0:00</td>\n",
       "      <td>11-04-17 0:00</td>\n",
       "      <td>57</td>\n",
       "      <td>2</td>\n",
       "      <td>5</td>\n",
       "      <td>4278</td>\n",
       "      <td>61</td>\n",
       "      <td>62</td>\n",
       "      <td>129889</td>\n",
       "      <td>4586</td>\n",
       "      <td>61</td>\n",
       "      <td>4</td>\n",
       "      <td>0</td>\n",
       "    </tr>\n",
       "  </tbody>\n",
       "</table>\n",
       "</div>"
      ],
      "text/plain": [
       "       URL  URL_LENGTH  NUMBER_SPECIAL_CHARACTERS CHARSET     SERVER  \\\n",
       "0   M0_109          16                          7     iso      nginx   \n",
       "1  B0_2314          16                          6     utf     apache   \n",
       "2   B0_911          16                          6   ascii  microsoft   \n",
       "3   B0_113          17                          6     iso      nginx   \n",
       "4   B0_403          17                          6     utf       None   \n",
       "\n",
       "  WHOIS_COUNTRY   WHOIS_REGDATE WHOIS_UPDATED_DATE  TCP_CONVERSATION_EXCHANGE  \\\n",
       "0          None  10-10-15 18:21               None                          7   \n",
       "1          None            None               None                         17   \n",
       "2          None            None               None                          0   \n",
       "3            US   07-10-97 4:00      12-09-13 0:45                         31   \n",
       "4            US   12-05-96 0:00      11-04-17 0:00                         57   \n",
       "\n",
       "   DIST_REMOTE_TCP_PORT  REMOTE_IPS  APP_BYTES  SOURCE_APP_PACKETS  \\\n",
       "0                     0           2        700                   9   \n",
       "1                     7           4       1230                  17   \n",
       "2                     0           0          0                   0   \n",
       "3                    22           3       3812                  39   \n",
       "4                     2           5       4278                  61   \n",
       "\n",
       "   REMOTE_APP_PACKETS  SOURCE_APP_BYTES  REMOTE_APP_BYTES  APP_PACKETS  \\\n",
       "0                  10              1153               832            9   \n",
       "1                  19              1265              1230           17   \n",
       "2                   0                 0                 0            0   \n",
       "3                  37             18784              4380           39   \n",
       "4                  62            129889              4586           61   \n",
       "\n",
       "   DNS_QUERY_TIMES  Type  \n",
       "0                2     1  \n",
       "1                0     0  \n",
       "2                0     0  \n",
       "3                8     0  \n",
       "4                4     0  "
      ]
     },
     "execution_count": 2,
     "metadata": {},
     "output_type": "execute_result"
    }
   ],
   "source": [
    "data.head()"
   ]
  },
  {
   "cell_type": "code",
   "execution_count": 3,
   "metadata": {},
   "outputs": [],
   "source": [
    "data['CHARSET'] = data['CHARSET'].replace(['None'],'Other')\n",
    "data['SERVER'] = data['SERVER'].replace(['None'],'Other')\n",
    "data['WHOIS_COUNTRY'] = data['WHOIS_COUNTRY'].replace(['None'],'Other')\n",
    "\n",
    "data[\"CHARSET\"] = data[\"CHARSET\"].astype('category')\n",
    "data[\"CHARSET_CAT\"] = data[\"CHARSET\"].cat.codes\n",
    "data[\"SERVER\"] = data[\"SERVER\"].astype('category')\n",
    "data[\"SERVER_CAT\"] = data[\"SERVER\"].cat.codes\n",
    "data[\"WHOIS_COUNTRY\"] = data[\"WHOIS_COUNTRY\"].astype('category')\n",
    "data[\"WHOIS_COUNTRY_CAT\"] = data[\"WHOIS_COUNTRY\"].cat.codes\n",
    "data[\"Type\"] = data[\"Type\"].astype('category')\n",
    "data[\"Type\"] = data[\"Type\"].cat.codes\n",
    "\n",
    "data=data[[\"NUMBER_SPECIAL_CHARACTERS\",\"CHARSET_CAT\",\"SERVER_CAT\",\"WHOIS_COUNTRY_CAT\",\"TCP_CONVERSATION_EXCHANGE\",\n",
    "           \"DIST_REMOTE_TCP_PORT\",\"REMOTE_IPS\",\"APP_BYTES\",\"SOURCE_APP_PACKETS\",\"REMOTE_APP_PACKETS\",\n",
    "           \"SOURCE_APP_BYTES\",\"REMOTE_APP_BYTES\",\"APP_PACKETS\",\"DNS_QUERY_TIMES\",\"Type\"]]\n",
    "\n",
    "x= data.iloc[:, 0:-1].values  \n",
    "y= data.iloc[:, -1].values  \n",
    "\n",
    "x_train, x_test, y_train, y_test= train_test_split(x, y, test_size= 0.2, random_state=42)  \n",
    "   \n",
    "st_x= StandardScaler()    \n",
    "x_train= st_x.fit_transform(x_train)    \n",
    "x_test= st_x.transform(x_test)  "
   ]
  },
  {
   "cell_type": "code",
   "execution_count": 4,
   "metadata": {
    "scrolled": false
   },
   "outputs": [
    {
     "data": {
      "text/html": [
       "<div>\n",
       "<style scoped>\n",
       "    .dataframe tbody tr th:only-of-type {\n",
       "        vertical-align: middle;\n",
       "    }\n",
       "\n",
       "    .dataframe tbody tr th {\n",
       "        vertical-align: top;\n",
       "    }\n",
       "\n",
       "    .dataframe thead th {\n",
       "        text-align: right;\n",
       "    }\n",
       "</style>\n",
       "<table border=\"1\" class=\"dataframe\">\n",
       "  <thead>\n",
       "    <tr style=\"text-align: right;\">\n",
       "      <th></th>\n",
       "      <th>NUMBER_SPECIAL_CHARACTERS</th>\n",
       "      <th>CHARSET_CAT</th>\n",
       "      <th>SERVER_CAT</th>\n",
       "      <th>WHOIS_COUNTRY_CAT</th>\n",
       "      <th>TCP_CONVERSATION_EXCHANGE</th>\n",
       "      <th>DIST_REMOTE_TCP_PORT</th>\n",
       "      <th>REMOTE_IPS</th>\n",
       "      <th>APP_BYTES</th>\n",
       "      <th>SOURCE_APP_PACKETS</th>\n",
       "      <th>REMOTE_APP_PACKETS</th>\n",
       "      <th>SOURCE_APP_BYTES</th>\n",
       "      <th>REMOTE_APP_BYTES</th>\n",
       "      <th>APP_PACKETS</th>\n",
       "      <th>DNS_QUERY_TIMES</th>\n",
       "      <th>Type</th>\n",
       "    </tr>\n",
       "  </thead>\n",
       "  <tbody>\n",
       "    <tr>\n",
       "      <th>0</th>\n",
       "      <td>7</td>\n",
       "      <td>2</td>\n",
       "      <td>4</td>\n",
       "      <td>4</td>\n",
       "      <td>7</td>\n",
       "      <td>0</td>\n",
       "      <td>2</td>\n",
       "      <td>700</td>\n",
       "      <td>9</td>\n",
       "      <td>10</td>\n",
       "      <td>1153</td>\n",
       "      <td>832</td>\n",
       "      <td>9</td>\n",
       "      <td>2</td>\n",
       "      <td>1</td>\n",
       "    </tr>\n",
       "    <tr>\n",
       "      <th>1</th>\n",
       "      <td>6</td>\n",
       "      <td>3</td>\n",
       "      <td>2</td>\n",
       "      <td>4</td>\n",
       "      <td>17</td>\n",
       "      <td>7</td>\n",
       "      <td>4</td>\n",
       "      <td>1230</td>\n",
       "      <td>17</td>\n",
       "      <td>19</td>\n",
       "      <td>1265</td>\n",
       "      <td>1230</td>\n",
       "      <td>17</td>\n",
       "      <td>0</td>\n",
       "      <td>0</td>\n",
       "    </tr>\n",
       "    <tr>\n",
       "      <th>2</th>\n",
       "      <td>6</td>\n",
       "      <td>1</td>\n",
       "      <td>3</td>\n",
       "      <td>4</td>\n",
       "      <td>0</td>\n",
       "      <td>0</td>\n",
       "      <td>0</td>\n",
       "      <td>0</td>\n",
       "      <td>0</td>\n",
       "      <td>0</td>\n",
       "      <td>0</td>\n",
       "      <td>0</td>\n",
       "      <td>0</td>\n",
       "      <td>0</td>\n",
       "      <td>0</td>\n",
       "    </tr>\n",
       "    <tr>\n",
       "      <th>3</th>\n",
       "      <td>6</td>\n",
       "      <td>2</td>\n",
       "      <td>4</td>\n",
       "      <td>6</td>\n",
       "      <td>31</td>\n",
       "      <td>22</td>\n",
       "      <td>3</td>\n",
       "      <td>3812</td>\n",
       "      <td>39</td>\n",
       "      <td>37</td>\n",
       "      <td>18784</td>\n",
       "      <td>4380</td>\n",
       "      <td>39</td>\n",
       "      <td>8</td>\n",
       "      <td>0</td>\n",
       "    </tr>\n",
       "    <tr>\n",
       "      <th>4</th>\n",
       "      <td>6</td>\n",
       "      <td>3</td>\n",
       "      <td>0</td>\n",
       "      <td>6</td>\n",
       "      <td>57</td>\n",
       "      <td>2</td>\n",
       "      <td>5</td>\n",
       "      <td>4278</td>\n",
       "      <td>61</td>\n",
       "      <td>62</td>\n",
       "      <td>129889</td>\n",
       "      <td>4586</td>\n",
       "      <td>61</td>\n",
       "      <td>4</td>\n",
       "      <td>0</td>\n",
       "    </tr>\n",
       "  </tbody>\n",
       "</table>\n",
       "</div>"
      ],
      "text/plain": [
       "   NUMBER_SPECIAL_CHARACTERS  CHARSET_CAT  SERVER_CAT  WHOIS_COUNTRY_CAT  \\\n",
       "0                          7            2           4                  4   \n",
       "1                          6            3           2                  4   \n",
       "2                          6            1           3                  4   \n",
       "3                          6            2           4                  6   \n",
       "4                          6            3           0                  6   \n",
       "\n",
       "   TCP_CONVERSATION_EXCHANGE  DIST_REMOTE_TCP_PORT  REMOTE_IPS  APP_BYTES  \\\n",
       "0                          7                     0           2        700   \n",
       "1                         17                     7           4       1230   \n",
       "2                          0                     0           0          0   \n",
       "3                         31                    22           3       3812   \n",
       "4                         57                     2           5       4278   \n",
       "\n",
       "   SOURCE_APP_PACKETS  REMOTE_APP_PACKETS  SOURCE_APP_BYTES  REMOTE_APP_BYTES  \\\n",
       "0                   9                  10              1153               832   \n",
       "1                  17                  19              1265              1230   \n",
       "2                   0                   0                 0                 0   \n",
       "3                  39                  37             18784              4380   \n",
       "4                  61                  62            129889              4586   \n",
       "\n",
       "   APP_PACKETS  DNS_QUERY_TIMES  Type  \n",
       "0            9                2     1  \n",
       "1           17                0     0  \n",
       "2            0                0     0  \n",
       "3           39                8     0  \n",
       "4           61                4     0  "
      ]
     },
     "execution_count": 4,
     "metadata": {},
     "output_type": "execute_result"
    }
   ],
   "source": [
    "data.head()"
   ]
  },
  {
   "cell_type": "code",
   "execution_count": 5,
   "metadata": {},
   "outputs": [],
   "source": [
    "accuracies=[]"
   ]
  },
  {
   "cell_type": "markdown",
   "metadata": {},
   "source": [
    "# RANDOM FOREST"
   ]
  },
  {
   "cell_type": "code",
   "execution_count": 6,
   "metadata": {
    "scrolled": true
   },
   "outputs": [
    {
     "data": {
      "text/plain": [
       "0.9439775910364145"
      ]
     },
     "execution_count": 6,
     "metadata": {},
     "output_type": "execute_result"
    }
   ],
   "source": [
    "from sklearn.ensemble import RandomForestClassifier  \n",
    "classifier= RandomForestClassifier(n_estimators= 100, criterion=\"entropy\", max_depth=None, class_weight=\"balanced\")  \n",
    "classifier.fit(x_train, y_train) \n",
    "y_pred= classifier.predict(x_test)  \n",
    "cm= confusion_matrix(y_test, y_pred)  \n",
    "accRandomEntropy=accuracy_score(y_test, y_pred)\n",
    "accRandomEntropy"
   ]
  },
  {
   "cell_type": "code",
   "execution_count": 7,
   "metadata": {},
   "outputs": [
    {
     "data": {
      "text/plain": [
       "[]"
      ]
     },
     "execution_count": 7,
     "metadata": {},
     "output_type": "execute_result"
    }
   ],
   "source": [
    "accuracies"
   ]
  },
  {
   "cell_type": "code",
   "execution_count": 9,
   "metadata": {},
   "outputs": [
    {
     "name": "stdout",
     "output_type": "stream",
     "text": [
      "Accuracy\n"
     ]
    },
    {
     "data": {
      "text/plain": [
       "0.9411764705882353"
      ]
     },
     "execution_count": 9,
     "metadata": {},
     "output_type": "execute_result"
    }
   ],
   "source": [
    "from sklearn.ensemble import RandomForestClassifier  \n",
    "classifier= RandomForestClassifier(n_estimators= 100, criterion=\"gini\",max_depth=None, class_weight=\"balanced\")  \n",
    "classifier.fit(x_train, y_train) \n",
    "y_pred= classifier.predict(x_test)  \n",
    "cm= confusion_matrix(y_test, y_pred)  \n",
    "accRandomGini=accuracy_score(y_test, y_pred)\n",
    "accuracies.append(accRandomGini)\n",
    "print(\"Accuracy\")\n",
    "accRandomGini"
   ]
  },
  {
   "cell_type": "code",
   "execution_count": 10,
   "metadata": {},
   "outputs": [
    {
     "data": {
      "text/plain": [
       "[0.9411764705882353]"
      ]
     },
     "execution_count": 10,
     "metadata": {},
     "output_type": "execute_result"
    }
   ],
   "source": [
    "accuracies"
   ]
  },
  {
   "cell_type": "code",
   "execution_count": 11,
   "metadata": {},
   "outputs": [
    {
     "name": "stdout",
     "output_type": "stream",
     "text": [
      "F1-Score\n"
     ]
    },
    {
     "data": {
      "text/plain": [
       "0.7857142857142858"
      ]
     },
     "execution_count": 11,
     "metadata": {},
     "output_type": "execute_result"
    }
   ],
   "source": [
    "from sklearn.ensemble import RandomForestClassifier  \n",
    "from sklearn.metrics import f1_score\n",
    "classifier= RandomForestClassifier(n_estimators= 100, criterion=\"gini\",max_depth=None, class_weight=\"balanced\")  \n",
    "classifier.fit(x_train, y_train) \n",
    "y_pred= classifier.predict(x_test)  \n",
    "cm= confusion_matrix(y_test, y_pred)  \n",
    "f1RandomGini = f1_score(y_test, y_pred)\n",
    "print(\"F1-Score\")\n",
    "f1RandomGini"
   ]
  },
  {
   "cell_type": "code",
   "execution_count": 12,
   "metadata": {},
   "outputs": [
    {
     "name": "stdout",
     "output_type": "stream",
     "text": [
      "Recall\n"
     ]
    },
    {
     "data": {
      "text/plain": [
       "0.6470588235294118"
      ]
     },
     "execution_count": 12,
     "metadata": {},
     "output_type": "execute_result"
    }
   ],
   "source": [
    "from sklearn.ensemble import RandomForestClassifier  \n",
    "from sklearn.metrics import recall_score\n",
    "classifier= RandomForestClassifier(n_estimators= 100, criterion=\"gini\",max_depth=None, class_weight=\"balanced\")  \n",
    "classifier.fit(x_train, y_train) \n",
    "y_pred= classifier.predict(x_test)  \n",
    "cm= confusion_matrix(y_test, y_pred)  \n",
    "recallRandomGini = recall_score(y_test, y_pred)\n",
    "print(\"Recall\")\n",
    "recallRandomGini"
   ]
  },
  {
   "cell_type": "code",
   "execution_count": 13,
   "metadata": {},
   "outputs": [
    {
     "name": "stdout",
     "output_type": "stream",
     "text": [
      "Precision\n"
     ]
    },
    {
     "data": {
      "text/plain": [
       "0.9393939393939394"
      ]
     },
     "execution_count": 13,
     "metadata": {},
     "output_type": "execute_result"
    }
   ],
   "source": [
    "from sklearn.ensemble import RandomForestClassifier  \n",
    "from sklearn.metrics import precision_score\n",
    "classifier= RandomForestClassifier(n_estimators= 100, criterion=\"gini\",max_depth=None, class_weight=\"balanced\")  \n",
    "classifier.fit(x_train, y_train) \n",
    "y_pred= classifier.predict(x_test)  \n",
    "cm= confusion_matrix(y_test, y_pred)  \n",
    "precisionRandomGini = precision_score(y_test, y_pred)\n",
    "print(\"Precision\")\n",
    "precisionRandomGini"
   ]
  },
  {
   "cell_type": "markdown",
   "metadata": {},
   "source": [
    "# Decision Tree"
   ]
  },
  {
   "cell_type": "code",
   "execution_count": 14,
   "metadata": {
    "scrolled": true
   },
   "outputs": [
    {
     "data": {
      "text/plain": [
       "0.927170868347339"
      ]
     },
     "execution_count": 14,
     "metadata": {},
     "output_type": "execute_result"
    }
   ],
   "source": [
    "from sklearn.tree import DecisionTreeClassifier  \n",
    "classifier= DecisionTreeClassifier(criterion='entropy', random_state=42, max_depth=None, splitter='best')  \n",
    "classifier.fit(x_train, y_train)\n",
    "y_pred= classifier.predict(x_test)  \n",
    "cm= confusion_matrix(y_test, y_pred)\n",
    "accDTEntropy=accuracy_score(y_test, y_pred)\n",
    "#accuracies.append(accDTEntropy)\n",
    "accDTEntropy"
   ]
  },
  {
   "cell_type": "code",
   "execution_count": 15,
   "metadata": {},
   "outputs": [
    {
     "name": "stdout",
     "output_type": "stream",
     "text": [
      "Accuracy\n"
     ]
    },
    {
     "data": {
      "text/plain": [
       "0.9299719887955182"
      ]
     },
     "execution_count": 15,
     "metadata": {},
     "output_type": "execute_result"
    }
   ],
   "source": [
    "from sklearn.tree import DecisionTreeClassifier  \n",
    "classifier= DecisionTreeClassifier(criterion='gini', random_state=42, max_depth=None, splitter='random')  \n",
    "classifier.fit(x_train, y_train)\n",
    "y_pred= classifier.predict(x_test)  \n",
    "cm= confusion_matrix(y_test, y_pred)\n",
    "accDTGini=accuracy_score(y_test, y_pred)\n",
    "accuracies.append(accDTGini)\n",
    "print(\"Accuracy\")\n",
    "accDTGini"
   ]
  },
  {
   "cell_type": "code",
   "execution_count": 16,
   "metadata": {},
   "outputs": [
    {
     "name": "stdout",
     "output_type": "stream",
     "text": [
      "F1-Score\n"
     ]
    },
    {
     "data": {
      "text/plain": [
       "0.766355140186916"
      ]
     },
     "execution_count": 16,
     "metadata": {},
     "output_type": "execute_result"
    }
   ],
   "source": [
    "from sklearn.tree import DecisionTreeClassifier  \n",
    "from sklearn.metrics import f1_score\n",
    "classifier= DecisionTreeClassifier(criterion='gini', random_state=42, max_depth=None, splitter='random')  \n",
    "classifier.fit(x_train, y_train)\n",
    "y_pred= classifier.predict(x_test)  \n",
    "cm= confusion_matrix(y_test, y_pred)\n",
    "f1DTGini=f1_score(y_test, y_pred)\n",
    "print(\"F1-Score\")\n",
    "f1DTGini"
   ]
  },
  {
   "cell_type": "code",
   "execution_count": 17,
   "metadata": {},
   "outputs": [
    {
     "name": "stdout",
     "output_type": "stream",
     "text": [
      "Recall\n"
     ]
    },
    {
     "data": {
      "text/plain": [
       "0.803921568627451"
      ]
     },
     "execution_count": 17,
     "metadata": {},
     "output_type": "execute_result"
    }
   ],
   "source": [
    "from sklearn.tree import DecisionTreeClassifier  \n",
    "from sklearn.metrics import recall_score\n",
    "classifier= DecisionTreeClassifier(criterion='gini', random_state=42, max_depth=None, splitter='random')  \n",
    "classifier.fit(x_train, y_train)\n",
    "y_pred= classifier.predict(x_test)  \n",
    "cm= confusion_matrix(y_test, y_pred)\n",
    "recallDTGini=recall_score(y_test, y_pred)\n",
    "print(\"Recall\")\n",
    "recallDTGini"
   ]
  },
  {
   "cell_type": "code",
   "execution_count": 18,
   "metadata": {},
   "outputs": [
    {
     "name": "stdout",
     "output_type": "stream",
     "text": [
      "Precision\n"
     ]
    },
    {
     "data": {
      "text/plain": [
       "0.7321428571428571"
      ]
     },
     "execution_count": 18,
     "metadata": {},
     "output_type": "execute_result"
    }
   ],
   "source": [
    "from sklearn.tree import DecisionTreeClassifier  \n",
    "from sklearn.metrics import precision_score\n",
    "classifier= DecisionTreeClassifier(criterion='gini', random_state=42, max_depth=None, splitter='random')  \n",
    "classifier.fit(x_train, y_train)\n",
    "y_pred= classifier.predict(x_test)  \n",
    "cm= confusion_matrix(y_test, y_pred)\n",
    "precisionDTGini=precision_score(y_test, y_pred)\n",
    "print(\"Precision\")\n",
    "precisionDTGini"
   ]
  },
  {
   "cell_type": "markdown",
   "metadata": {},
   "source": [
    "# Logistic Regression"
   ]
  },
  {
   "cell_type": "code",
   "execution_count": 19,
   "metadata": {},
   "outputs": [
    {
     "name": "stdout",
     "output_type": "stream",
     "text": [
      "Accuracy\n"
     ]
    },
    {
     "data": {
      "text/plain": [
       "0.876750700280112"
      ]
     },
     "execution_count": 19,
     "metadata": {},
     "output_type": "execute_result"
    }
   ],
   "source": [
    "from sklearn.linear_model import LogisticRegression  \n",
    "classifier= LogisticRegression(random_state=0,multi_class='ovr')  \n",
    "classifier.fit(x_train, y_train)  \n",
    "y_pred= classifier.predict(x_test)  \n",
    "cm= confusion_matrix(y_test, y_pred)\n",
    "accLROvr=accuracy_score(y_test, y_pred)\n",
    "accuracies.append(accLROvr)\n",
    "print(\"Accuracy\")\n",
    "accLROvr"
   ]
  },
  {
   "cell_type": "code",
   "execution_count": 20,
   "metadata": {},
   "outputs": [
    {
     "name": "stdout",
     "output_type": "stream",
     "text": [
      "Recall\n"
     ]
    },
    {
     "data": {
      "text/plain": [
       "0.27450980392156865"
      ]
     },
     "execution_count": 20,
     "metadata": {},
     "output_type": "execute_result"
    }
   ],
   "source": [
    "from sklearn.linear_model import LogisticRegression \n",
    "from sklearn.metrics import recall_score\n",
    "classifier= LogisticRegression(random_state=0,multi_class='ovr')  \n",
    "classifier.fit(x_train, y_train)  \n",
    "y_pred= classifier.predict(x_test)  \n",
    "cm= confusion_matrix(y_test, y_pred)\n",
    "RecallLROvr=recall_score(y_test, y_pred)\n",
    "print(\"Recall\")\n",
    "RecallLROvr"
   ]
  },
  {
   "cell_type": "code",
   "execution_count": 21,
   "metadata": {},
   "outputs": [
    {
     "name": "stdout",
     "output_type": "stream",
     "text": [
      "Precision\n"
     ]
    },
    {
     "data": {
      "text/plain": [
       "0.6666666666666666"
      ]
     },
     "execution_count": 21,
     "metadata": {},
     "output_type": "execute_result"
    }
   ],
   "source": [
    "from sklearn.linear_model import LogisticRegression \n",
    "from sklearn.metrics import precision_score\n",
    "classifier= LogisticRegression(random_state=0,multi_class='ovr')  \n",
    "classifier.fit(x_train, y_train)  \n",
    "y_pred= classifier.predict(x_test)  \n",
    "cm= confusion_matrix(y_test, y_pred)\n",
    "PrecisionLROvr=precision_score(y_test, y_pred)\n",
    "print(\"Precision\")\n",
    "PrecisionLROvr"
   ]
  },
  {
   "cell_type": "code",
   "execution_count": 22,
   "metadata": {},
   "outputs": [
    {
     "name": "stdout",
     "output_type": "stream",
     "text": [
      "F1-SCore\n"
     ]
    },
    {
     "data": {
      "text/plain": [
       "0.38888888888888895"
      ]
     },
     "execution_count": 22,
     "metadata": {},
     "output_type": "execute_result"
    }
   ],
   "source": [
    "from sklearn.linear_model import LogisticRegression \n",
    "from sklearn.metrics import f1_score\n",
    "classifier= LogisticRegression(random_state=0,multi_class='ovr')  \n",
    "classifier.fit(x_train, y_train)  \n",
    "y_pred= classifier.predict(x_test)  \n",
    "cm= confusion_matrix(y_test, y_pred)\n",
    "f1LROvr=f1_score(y_test, y_pred)\n",
    "print(\"F1-SCore\")\n",
    "f1LROvr"
   ]
  },
  {
   "cell_type": "code",
   "execution_count": 23,
   "metadata": {},
   "outputs": [
    {
     "data": {
      "text/plain": [
       "0.8739495798319328"
      ]
     },
     "execution_count": 23,
     "metadata": {},
     "output_type": "execute_result"
    }
   ],
   "source": [
    "from sklearn.linear_model import LogisticRegression  \n",
    "classifier= LogisticRegression(random_state=0,multi_class='multinomial')  \n",
    "classifier.fit(x_train, y_train)  \n",
    "y_pred= classifier.predict(x_test)  \n",
    "cm= confusion_matrix(y_test, y_pred)\n",
    "accLRMulti=accuracy_score(y_test, y_pred)\n",
    "#accuracies.append(accLRMulti)\n",
    "accLRMulti"
   ]
  },
  {
   "cell_type": "markdown",
   "metadata": {},
   "source": [
    "# Stochastic Gradient Descent"
   ]
  },
  {
   "cell_type": "code",
   "execution_count": 25,
   "metadata": {},
   "outputs": [
    {
     "name": "stdout",
     "output_type": "stream",
     "text": [
      "Accuracy\n"
     ]
    },
    {
     "data": {
      "text/plain": [
       "0.6236559139784946"
      ]
     },
     "execution_count": 25,
     "metadata": {},
     "output_type": "execute_result"
    }
   ],
   "source": [
    "from sklearn.linear_model import SGDClassifier\n",
    "classifier=SGDClassifier(loss=\"hinge\", penalty=\"l1\", max_iter=1000)\n",
    "classifier.fit(x_train, y_train)  \n",
    "y_pred= classifier.predict(x_test)  \n",
    "cm= confusion_matrix(y_test, y_pred)\n",
    "accSGDHingel1=f1_score(y_test, y_pred)\n",
    "accuracies.append(accSGDHingel1)\n",
    "print(\"Accuracy\")\n",
    "accSGDHingel1"
   ]
  },
  {
   "cell_type": "code",
   "execution_count": 26,
   "metadata": {},
   "outputs": [
    {
     "name": "stdout",
     "output_type": "stream",
     "text": [
      "F1-Score\n"
     ]
    },
    {
     "data": {
      "text/plain": [
       "0.6086956521739131"
      ]
     },
     "execution_count": 26,
     "metadata": {},
     "output_type": "execute_result"
    }
   ],
   "source": [
    "from sklearn.linear_model import SGDClassifier\n",
    "from sklearn.metrics import f1_score\n",
    "classifier=SGDClassifier(loss=\"hinge\", penalty=\"l1\", max_iter=1000)\n",
    "classifier.fit(x_train, y_train)  \n",
    "y_pred= classifier.predict(x_test)  \n",
    "cm= confusion_matrix(y_test, y_pred)\n",
    "f1SGDHingel1=f1_score(y_test, y_pred)\n",
    "print(\"F1-Score\")\n",
    "f1SGDHingel1"
   ]
  },
  {
   "cell_type": "code",
   "execution_count": 27,
   "metadata": {},
   "outputs": [
    {
     "name": "stdout",
     "output_type": "stream",
     "text": [
      "Precision\n"
     ]
    },
    {
     "data": {
      "text/plain": [
       "0.6829268292682927"
      ]
     },
     "execution_count": 27,
     "metadata": {},
     "output_type": "execute_result"
    }
   ],
   "source": [
    "from sklearn.linear_model import SGDClassifier\n",
    "from sklearn.metrics import precision_score\n",
    "classifier=SGDClassifier(loss=\"hinge\", penalty=\"l1\", max_iter=1000)\n",
    "classifier.fit(x_train, y_train)  \n",
    "y_pred= classifier.predict(x_test)  \n",
    "cm= confusion_matrix(y_test, y_pred)\n",
    "precisionSGDHingel1=precision_score(y_test, y_pred)\n",
    "print(\"Precision\")\n",
    "precisionSGDHingel1"
   ]
  },
  {
   "cell_type": "code",
   "execution_count": 28,
   "metadata": {},
   "outputs": [
    {
     "name": "stdout",
     "output_type": "stream",
     "text": [
      "Recall\n"
     ]
    },
    {
     "data": {
      "text/plain": [
       "0.27450980392156865"
      ]
     },
     "execution_count": 28,
     "metadata": {},
     "output_type": "execute_result"
    }
   ],
   "source": [
    "from sklearn.linear_model import SGDClassifier\n",
    "from sklearn.metrics import recall_score\n",
    "classifier=SGDClassifier(loss=\"hinge\", penalty=\"l1\", max_iter=1000)\n",
    "classifier.fit(x_train, y_train)  \n",
    "y_pred= classifier.predict(x_test)  \n",
    "cm= confusion_matrix(y_test, y_pred)\n",
    "recallSGDHingel1=recall_score(y_test, y_pred)\n",
    "print(\"Recall\")\n",
    "recallSGDHingel1"
   ]
  },
  {
   "cell_type": "code",
   "execution_count": 29,
   "metadata": {},
   "outputs": [
    {
     "data": {
      "text/plain": [
       "0.8823529411764706"
      ]
     },
     "execution_count": 29,
     "metadata": {},
     "output_type": "execute_result"
    }
   ],
   "source": [
    "from sklearn.linear_model import SGDClassifier\n",
    "classifier=SGDClassifier(loss=\"hinge\", penalty=\"l2\", max_iter=1000)\n",
    "classifier.fit(x_train, y_train)  \n",
    "y_pred= classifier.predict(x_test)  \n",
    "cm= confusion_matrix(y_test, y_pred)\n",
    "accSGDHingel2=accuracy_score(y_test, y_pred)\n",
    "#accuracies.append(accSGDHingel2)\n",
    "accSGDHingel2"
   ]
  },
  {
   "cell_type": "code",
   "execution_count": 30,
   "metadata": {},
   "outputs": [
    {
     "data": {
      "text/plain": [
       "0.8543417366946778"
      ]
     },
     "execution_count": 30,
     "metadata": {},
     "output_type": "execute_result"
    }
   ],
   "source": [
    "from sklearn.linear_model import SGDClassifier\n",
    "classifier=SGDClassifier(loss=\"squared_hinge\", penalty=\"l2\", max_iter=1000)\n",
    "classifier.fit(x_train, y_train)  \n",
    "y_pred= classifier.predict(x_test)  \n",
    "cm= confusion_matrix(y_test, y_pred)\n",
    "accSGD=accuracy_score(y_test, y_pred)\n",
    "#accuracies.append(accSGD)\n",
    "accSGD"
   ]
  },
  {
   "cell_type": "code",
   "execution_count": 31,
   "metadata": {},
   "outputs": [
    {
     "data": {
      "text/plain": [
       "0.8067226890756303"
      ]
     },
     "execution_count": 31,
     "metadata": {},
     "output_type": "execute_result"
    }
   ],
   "source": [
    "from sklearn.linear_model import SGDClassifier\n",
    "classifier=SGDClassifier(loss=\"squared_hinge\", penalty=\"l2\", max_iter=1000)\n",
    "classifier.fit(x_train, y_train)  \n",
    "y_pred= classifier.predict(x_test)  \n",
    "cm= confusion_matrix(y_test, y_pred)\n",
    "accSGDSHingel2=accuracy_score(y_test, y_pred)\n",
    "#accuracies.append(accSGDSHingel2)\n",
    "accSGDSHingel2"
   ]
  },
  {
   "cell_type": "code",
   "execution_count": 32,
   "metadata": {},
   "outputs": [
    {
     "data": {
      "text/plain": [
       "0.8935574229691877"
      ]
     },
     "execution_count": 32,
     "metadata": {},
     "output_type": "execute_result"
    }
   ],
   "source": [
    "from sklearn.linear_model import SGDClassifier\n",
    "classifier=SGDClassifier(loss=\"squared_hinge\", penalty=\"l1\", max_iter=1000)\n",
    "classifier.fit(x_train, y_train)  \n",
    "y_pred= classifier.predict(x_test)  \n",
    "cm= confusion_matrix(y_test, y_pred)\n",
    "accSGDSHingel1=accuracy_score(y_test, y_pred)\n",
    "#accuracies.append(accSGDSHingel1)\n",
    "accSGDSHingel1"
   ]
  },
  {
   "cell_type": "markdown",
   "metadata": {},
   "source": [
    "# Naïve Bayes"
   ]
  },
  {
   "cell_type": "code",
   "execution_count": 33,
   "metadata": {},
   "outputs": [
    {
     "name": "stdout",
     "output_type": "stream",
     "text": [
      "Accuracy\n"
     ]
    },
    {
     "data": {
      "text/plain": [
       "0.3137254901960784"
      ]
     },
     "execution_count": 33,
     "metadata": {},
     "output_type": "execute_result"
    }
   ],
   "source": [
    "from sklearn.naive_bayes import GaussianNB  \n",
    "classifier = GaussianNB()  \n",
    "classifier.fit(x_train, y_train)  \n",
    "y_pred= classifier.predict(x_test)  \n",
    "cm= confusion_matrix(y_test, y_pred)\n",
    "accNAIVE=accuracy_score(y_test, y_pred)\n",
    "accuracies.append(accNAIVE)\n",
    "print(\"Accuracy\")\n",
    "accNAIVE"
   ]
  },
  {
   "cell_type": "code",
   "execution_count": 34,
   "metadata": {},
   "outputs": [
    {
     "name": "stdout",
     "output_type": "stream",
     "text": [
      "F1-Score\n"
     ]
    },
    {
     "data": {
      "text/plain": [
       "0.2898550724637681"
      ]
     },
     "execution_count": 34,
     "metadata": {},
     "output_type": "execute_result"
    }
   ],
   "source": [
    "from sklearn.naive_bayes import GaussianNB \n",
    "from sklearn.metrics import f1_score\n",
    "classifier = GaussianNB()  \n",
    "classifier.fit(x_train, y_train)  \n",
    "y_pred= classifier.predict(x_test)  \n",
    "cm= confusion_matrix(y_test, y_pred)\n",
    "f1NAIVE=f1_score(y_test, y_pred)\n",
    "print(\"F1-Score\")\n",
    "f1NAIVE"
   ]
  },
  {
   "cell_type": "code",
   "execution_count": 35,
   "metadata": {},
   "outputs": [
    {
     "name": "stdout",
     "output_type": "stream",
     "text": [
      "Recall\n"
     ]
    },
    {
     "data": {
      "text/plain": [
       "0.9803921568627451"
      ]
     },
     "execution_count": 35,
     "metadata": {},
     "output_type": "execute_result"
    }
   ],
   "source": [
    "from sklearn.naive_bayes import GaussianNB \n",
    "from sklearn.metrics import recall_score\n",
    "classifier = GaussianNB()  \n",
    "classifier.fit(x_train, y_train)  \n",
    "y_pred= classifier.predict(x_test)  \n",
    "cm= confusion_matrix(y_test, y_pred)\n",
    "recallNAIVE=recall_score(y_test, y_pred)\n",
    "print(\"Recall\")\n",
    "recallNAIVE"
   ]
  },
  {
   "cell_type": "code",
   "execution_count": 36,
   "metadata": {},
   "outputs": [
    {
     "name": "stdout",
     "output_type": "stream",
     "text": [
      "Precision\n"
     ]
    },
    {
     "data": {
      "text/plain": [
       "0.17006802721088435"
      ]
     },
     "execution_count": 36,
     "metadata": {},
     "output_type": "execute_result"
    }
   ],
   "source": [
    "from sklearn.naive_bayes import GaussianNB \n",
    "from sklearn.metrics import precision_score\n",
    "classifier = GaussianNB()  \n",
    "classifier.fit(x_train, y_train)  \n",
    "y_pred= classifier.predict(x_test)  \n",
    "cm= confusion_matrix(y_test, y_pred)\n",
    "precisionNAIVE=precision_score(y_test, y_pred)\n",
    "print(\"Precision\")\n",
    "precisionNAIVE"
   ]
  },
  {
   "cell_type": "markdown",
   "metadata": {},
   "source": [
    "# Support Vector Machine"
   ]
  },
  {
   "cell_type": "code",
   "execution_count": 37,
   "metadata": {},
   "outputs": [
    {
     "data": {
      "text/plain": [
       "0.8571428571428571"
      ]
     },
     "execution_count": 37,
     "metadata": {},
     "output_type": "execute_result"
    }
   ],
   "source": [
    "from sklearn.svm import SVC # \"Support vector classifier\"  \n",
    "classifier = SVC(kernel='linear', random_state=0)  \n",
    "classifier.fit(x_train, y_train)  \n",
    "y_pred= classifier.predict(x_test)  \n",
    "cm= confusion_matrix(y_test, y_pred)\n",
    "accSVMLinear=accuracy_score(y_test, y_pred)\n",
    "#accuracies.append(accSVMLinear)\n",
    "accSVMLinear"
   ]
  },
  {
   "cell_type": "code",
   "execution_count": 38,
   "metadata": {},
   "outputs": [
    {
     "name": "stdout",
     "output_type": "stream",
     "text": [
      "Accuracy\n"
     ]
    },
    {
     "data": {
      "text/plain": [
       "0.8991596638655462"
      ]
     },
     "execution_count": 38,
     "metadata": {},
     "output_type": "execute_result"
    }
   ],
   "source": [
    "from sklearn.svm import SVC # \"Support vector classifier\"  \n",
    "classifier = SVC(kernel='poly', random_state=0)  \n",
    "classifier.fit(x_train, y_train)  \n",
    "y_pred= classifier.predict(x_test)  \n",
    "cm= confusion_matrix(y_test, y_pred)\n",
    "accSVMPoly=accuracy_score(y_test, y_pred)\n",
    "accuracies.append(accSVMPoly)\n",
    "print(\"Accuracy\")\n",
    "accSVMPoly"
   ]
  },
  {
   "cell_type": "code",
   "execution_count": 39,
   "metadata": {},
   "outputs": [
    {
     "name": "stdout",
     "output_type": "stream",
     "text": [
      "F1-Scores\n"
     ]
    },
    {
     "data": {
      "text/plain": [
       "0.45454545454545453"
      ]
     },
     "execution_count": 39,
     "metadata": {},
     "output_type": "execute_result"
    }
   ],
   "source": [
    "from sklearn.svm import SVC # \"Support vector classifier\"  \n",
    "from sklearn.metrics import f1_score\n",
    "classifier = SVC(kernel='poly', random_state=0)  \n",
    "classifier.fit(x_train, y_train)  \n",
    "y_pred= classifier.predict(x_test)  \n",
    "cm= confusion_matrix(y_test, y_pred)\n",
    "f1SVMPoly=f1_score(y_test, y_pred)\n",
    "print(\"F1-Scores\")\n",
    "f1SVMPoly"
   ]
  },
  {
   "cell_type": "code",
   "execution_count": 40,
   "metadata": {},
   "outputs": [
    {
     "name": "stdout",
     "output_type": "stream",
     "text": [
      "Recall\n"
     ]
    },
    {
     "data": {
      "text/plain": [
       "0.29411764705882354"
      ]
     },
     "execution_count": 40,
     "metadata": {},
     "output_type": "execute_result"
    }
   ],
   "source": [
    "from sklearn.svm import SVC # \"Support vector classifier\"  \n",
    "from sklearn.metrics import recall_score\n",
    "classifier = SVC(kernel='poly', random_state=0)  \n",
    "classifier.fit(x_train, y_train)  \n",
    "y_pred= classifier.predict(x_test)  \n",
    "cm= confusion_matrix(y_test, y_pred)\n",
    "recallSVMPoly=recall_score(y_test, y_pred)\n",
    "print(\"Recall\")\n",
    "recallSVMPoly"
   ]
  },
  {
   "cell_type": "code",
   "execution_count": 41,
   "metadata": {},
   "outputs": [
    {
     "name": "stdout",
     "output_type": "stream",
     "text": [
      "Precision\n"
     ]
    },
    {
     "data": {
      "text/plain": [
       "1.0"
      ]
     },
     "execution_count": 41,
     "metadata": {},
     "output_type": "execute_result"
    }
   ],
   "source": [
    "from sklearn.svm import SVC # \"Support vector classifier\"  \n",
    "from sklearn.metrics import precision_score\n",
    "classifier = SVC(kernel='poly', random_state=0)  \n",
    "classifier.fit(x_train, y_train)  \n",
    "y_pred= classifier.predict(x_test)  \n",
    "cm= confusion_matrix(y_test, y_pred)\n",
    "precisionSVMPoly=precision_score(y_test, y_pred)\n",
    "print(\"Precision\")\n",
    "precisionSVMPoly"
   ]
  },
  {
   "cell_type": "code",
   "execution_count": 42,
   "metadata": {},
   "outputs": [
    {
     "data": {
      "text/plain": [
       "0.8011204481792717"
      ]
     },
     "execution_count": 42,
     "metadata": {},
     "output_type": "execute_result"
    }
   ],
   "source": [
    "from sklearn.svm import SVC # \"Support vector classifier\"  \n",
    "classifier = SVC(kernel='sigmoid', random_state=0)  \n",
    "classifier.fit(x_train, y_train)  \n",
    "y_pred= classifier.predict(x_test)  \n",
    "cm= confusion_matrix(y_test, y_pred)\n",
    "accSVMSigmoid=accuracy_score(y_test, y_pred)\n",
    "#accuracies.append(accSVMSigmoid)\n",
    "accSVMSigmoid"
   ]
  },
  {
   "cell_type": "markdown",
   "metadata": {},
   "source": [
    "# K-Nearest Neighbor(KNN)"
   ]
  },
  {
   "cell_type": "code",
   "execution_count": 44,
   "metadata": {},
   "outputs": [
    {
     "name": "stdout",
     "output_type": "stream",
     "text": [
      "Accuracy\n"
     ]
    },
    {
     "data": {
      "text/plain": [
       "0.9355742296918768"
      ]
     },
     "execution_count": 44,
     "metadata": {},
     "output_type": "execute_result"
    }
   ],
   "source": [
    "from sklearn.neighbors import KNeighborsClassifier  \n",
    "classifier= KNeighborsClassifier(n_neighbors=5, metric='minkowski', p=2 )  \n",
    "classifier.fit(x_train, y_train)  \n",
    "y_pred= classifier.predict(x_test)  \n",
    "cm= confusion_matrix(y_test, y_pred)\n",
    "accKNN=accuracy_score(y_test, y_pred)\n",
    "accuracies.append(accKNN)\n",
    "print(\"Accuracy\")\n",
    "accKNN"
   ]
  },
  {
   "cell_type": "code",
   "execution_count": 45,
   "metadata": {},
   "outputs": [
    {
     "name": "stdout",
     "output_type": "stream",
     "text": [
      "F1-Score\n"
     ]
    },
    {
     "data": {
      "text/plain": [
       "0.7578947368421053"
      ]
     },
     "execution_count": 45,
     "metadata": {},
     "output_type": "execute_result"
    }
   ],
   "source": [
    "from sklearn.neighbors import KNeighborsClassifier  \n",
    "from sklearn.metrics import f1_score\n",
    "classifier= KNeighborsClassifier(n_neighbors=5, metric='minkowski', p=2 )  \n",
    "classifier.fit(x_train, y_train)  \n",
    "y_pred= classifier.predict(x_test)  \n",
    "cm= confusion_matrix(y_test, y_pred)\n",
    "f1KNN=f1_score(y_test, y_pred)\n",
    "print(\"F1-Score\")\n",
    "f1KNN"
   ]
  },
  {
   "cell_type": "code",
   "execution_count": 46,
   "metadata": {},
   "outputs": [
    {
     "name": "stdout",
     "output_type": "stream",
     "text": [
      "Recall\n"
     ]
    },
    {
     "data": {
      "text/plain": [
       "0.7058823529411765"
      ]
     },
     "execution_count": 46,
     "metadata": {},
     "output_type": "execute_result"
    }
   ],
   "source": [
    "from sklearn.neighbors import KNeighborsClassifier  \n",
    "from sklearn.metrics import recall_score\n",
    "classifier= KNeighborsClassifier(n_neighbors=5, metric='minkowski', p=2 )  \n",
    "classifier.fit(x_train, y_train)  \n",
    "y_pred= classifier.predict(x_test)  \n",
    "cm= confusion_matrix(y_test, y_pred)\n",
    "recallKNN=recall_score(y_test, y_pred)\n",
    "print(\"Recall\")\n",
    "recallKNN"
   ]
  },
  {
   "cell_type": "code",
   "execution_count": 47,
   "metadata": {},
   "outputs": [
    {
     "name": "stdout",
     "output_type": "stream",
     "text": [
      "Precision\n"
     ]
    },
    {
     "data": {
      "text/plain": [
       "0.7058823529411765"
      ]
     },
     "execution_count": 47,
     "metadata": {},
     "output_type": "execute_result"
    }
   ],
   "source": [
    "from sklearn.neighbors import KNeighborsClassifier  \n",
    "from sklearn.metrics import precision_score\n",
    "classifier= KNeighborsClassifier(n_neighbors=5, metric='minkowski', p=2 )  \n",
    "classifier.fit(x_train, y_train)  \n",
    "y_pred= classifier.predict(x_test)  \n",
    "cm= confusion_matrix(y_test, y_pred)\n",
    "PrecisionKNN=precision_score(y_test, y_pred)\n",
    "print(\"Precision\")\n",
    "recallKNN"
   ]
  },
  {
   "cell_type": "code",
   "execution_count": 48,
   "metadata": {},
   "outputs": [
    {
     "data": {
      "text/plain": [
       "0.9047619047619048"
      ]
     },
     "execution_count": 48,
     "metadata": {},
     "output_type": "execute_result"
    }
   ],
   "source": [
    "from sklearn.neighbors import KNeighborsClassifier  \n",
    "classifier= KNeighborsClassifier(n_neighbors=20, metric='minkowski', p=2 )  \n",
    "classifier.fit(x_train, y_train)  \n",
    "y_pred= classifier.predict(x_test)  \n",
    "cm= confusion_matrix(y_test, y_pred)\n",
    "accKNN=accuracy_score(y_test, y_pred)\n",
    "#accuracies.append(accKNN)\n",
    "accKNN"
   ]
  },
  {
   "cell_type": "code",
   "execution_count": 49,
   "metadata": {},
   "outputs": [
    {
     "data": {
      "text/plain": [
       "[0.9411764705882353,\n",
       " 0.9299719887955182,\n",
       " 0.876750700280112,\n",
       " 0.6236559139784946,\n",
       " 0.3137254901960784,\n",
       " 0.8991596638655462,\n",
       " 0.9355742296918768]"
      ]
     },
     "execution_count": 49,
     "metadata": {},
     "output_type": "execute_result"
    }
   ],
   "source": [
    "accuracies"
   ]
  },
  {
   "cell_type": "code",
   "execution_count": 54,
   "metadata": {},
   "outputs": [
    {
     "data": {
      "image/png": "[encoded data removed]",
      "text/plain": [
       "<Figure size 432x288 with 1 Axes>"
      ]
     },
     "metadata": {
      "needs_background": "light"
     },
     "output_type": "display_data"
    }
   ],
   "source": [
    "import matplotlib.pyplot as plt \n",
    "algorithms = [\"RF\",\"DT\",\"LR\",\"SGD\",\"NV\",\"SVM\",\"KNN\"] \n",
    "plt.bar(algorithms,accuracies,color={\"red\",\"green\",\"blue\",\"yellow\",\"grey\",\"brown\",\"orange\"})\n",
    "#plt.title(\"Accuracy for each algorithm\")\n",
    "plt.xlabel(\"Algorithm\")\n",
    "plt.ylabel(\"Accuracy\")\n",
    "plt.show()"
   ]
  },
  {
   "cell_type": "code",
   "execution_count": 51,
   "metadata": {},
   "outputs": [],
   "source": [
    "from sklearn.metrics import precision_recall_fscore_support,precision_score,recall_score,f1_score"
   ]
  },
  {
   "cell_type": "code",
   "execution_count": 52,
   "metadata": {},
   "outputs": [
    {
     "data": {
      "text/plain": [
       "0.7741935483870968"
      ]
     },
     "execution_count": 52,
     "metadata": {},
     "output_type": "execute_result"
    }
   ],
   "source": [
    "precision_score(y_test, y_pred)"
   ]
  },
  {
   "cell_type": "code",
   "execution_count": 53,
   "metadata": {},
   "outputs": [
    {
     "data": {
      "text/plain": [
       "0.47058823529411764"
      ]
     },
     "execution_count": 53,
     "metadata": {},
     "output_type": "execute_result"
    }
   ],
   "source": [
    "recall_score(y_test, y_pred)"
   ]
  },
  {
   "cell_type": "code",
   "execution_count": null,
   "metadata": {},
   "outputs": [],
   "source": [
    "f1_score(y_test, y_pred)"
   ]
  },
  {
   "cell_type": "code",
   "execution_count": null,
   "metadata": {},
   "outputs": [],
   "source": []
  }
 ],
 "metadata": {
  "kernelspec": {
   "display_name": "Python 3",
   "language": "python",
   "name": "python3"
  },
  "language_info": {
   "codemirror_mode": {
    "name": "ipython",
    "version": 3
   },
   "file_extension": ".py",
   "mimetype": "text/x-python",
   "name": "python",
   "nbconvert_exporter": "python",
   "pygments_lexer": "ipython3",
   "version": "3.7.6"
  }
 },
 "nbformat": 4,
 "nbformat_minor": 5
}
